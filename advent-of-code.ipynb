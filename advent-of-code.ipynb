{
 "cells": [
  {
   "cell_type": "markdown",
   "id": "f1beae67",
   "metadata": {},
   "source": [
    "# Day 1"
   ]
  },
  {
   "cell_type": "code",
   "execution_count": 424,
   "id": "7603c1e3",
   "metadata": {},
   "outputs": [],
   "source": [
    "import numpy as np\n",
    "import pandas as pd\n",
    "import math\n",
    "import matplotlib.pyplot as plt\n",
    "import seaborn as sns\n",
    "import re\n",
    "import timeit\n"
   ]
  },
  {
   "cell_type": "code",
   "execution_count": 2,
   "id": "602d1e29",
   "metadata": {},
   "outputs": [],
   "source": [
    "df = pd.read_csv('inputs/day1.txt', header=None)\n",
    "x = df.iloc[:,0]"
   ]
  },
  {
   "cell_type": "code",
   "execution_count": 3,
   "id": "d21b6fd0",
   "metadata": {},
   "outputs": [
    {
     "data": {
      "text/html": [
       "<div>\n",
       "<style scoped>\n",
       "    .dataframe tbody tr th:only-of-type {\n",
       "        vertical-align: middle;\n",
       "    }\n",
       "\n",
       "    .dataframe tbody tr th {\n",
       "        vertical-align: top;\n",
       "    }\n",
       "\n",
       "    .dataframe thead th {\n",
       "        text-align: right;\n",
       "    }\n",
       "</style>\n",
       "<table border=\"1\" class=\"dataframe\">\n",
       "  <thead>\n",
       "    <tr style=\"text-align: right;\">\n",
       "      <th></th>\n",
       "      <th>0</th>\n",
       "    </tr>\n",
       "  </thead>\n",
       "  <tbody>\n",
       "    <tr>\n",
       "      <th>0</th>\n",
       "      <td>193</td>\n",
       "    </tr>\n",
       "    <tr>\n",
       "      <th>1</th>\n",
       "      <td>195</td>\n",
       "    </tr>\n",
       "    <tr>\n",
       "      <th>2</th>\n",
       "      <td>204</td>\n",
       "    </tr>\n",
       "    <tr>\n",
       "      <th>3</th>\n",
       "      <td>208</td>\n",
       "    </tr>\n",
       "    <tr>\n",
       "      <th>4</th>\n",
       "      <td>219</td>\n",
       "    </tr>\n",
       "  </tbody>\n",
       "</table>\n",
       "</div>"
      ],
      "text/plain": [
       "     0\n",
       "0  193\n",
       "1  195\n",
       "2  204\n",
       "3  208\n",
       "4  219"
      ]
     },
     "execution_count": 3,
     "metadata": {},
     "output_type": "execute_result"
    }
   ],
   "source": [
    "df.head()"
   ]
  },
  {
   "cell_type": "code",
   "execution_count": 4,
   "id": "6fb34cfd",
   "metadata": {},
   "outputs": [
    {
     "data": {
      "text/html": [
       "<div>\n",
       "<style scoped>\n",
       "    .dataframe tbody tr th:only-of-type {\n",
       "        vertical-align: middle;\n",
       "    }\n",
       "\n",
       "    .dataframe tbody tr th {\n",
       "        vertical-align: top;\n",
       "    }\n",
       "\n",
       "    .dataframe thead th {\n",
       "        text-align: right;\n",
       "    }\n",
       "</style>\n",
       "<table border=\"1\" class=\"dataframe\">\n",
       "  <thead>\n",
       "    <tr style=\"text-align: right;\">\n",
       "      <th></th>\n",
       "      <th>0</th>\n",
       "    </tr>\n",
       "  </thead>\n",
       "  <tbody>\n",
       "    <tr>\n",
       "      <th>0</th>\n",
       "      <td>193.0</td>\n",
       "    </tr>\n",
       "    <tr>\n",
       "      <th>1</th>\n",
       "      <td>193.0</td>\n",
       "    </tr>\n",
       "    <tr>\n",
       "      <th>2</th>\n",
       "      <td>195.0</td>\n",
       "    </tr>\n",
       "    <tr>\n",
       "      <th>3</th>\n",
       "      <td>204.0</td>\n",
       "    </tr>\n",
       "    <tr>\n",
       "      <th>4</th>\n",
       "      <td>208.0</td>\n",
       "    </tr>\n",
       "  </tbody>\n",
       "</table>\n",
       "</div>"
      ],
      "text/plain": [
       "       0\n",
       "0  193.0\n",
       "1  193.0\n",
       "2  195.0\n",
       "3  204.0\n",
       "4  208.0"
      ]
     },
     "execution_count": 4,
     "metadata": {},
     "output_type": "execute_result"
    }
   ],
   "source": [
    "df.shift(1).bfill().head()"
   ]
  },
  {
   "cell_type": "code",
   "execution_count": 5,
   "id": "a13180b8",
   "metadata": {},
   "outputs": [
    {
     "data": {
      "text/plain": [
       "0    4\n",
       "dtype: int64"
      ]
     },
     "execution_count": 5,
     "metadata": {},
     "output_type": "execute_result"
    }
   ],
   "source": [
    "(df.head() > df.shift(1).bfill().head()).astype(int).sum()"
   ]
  },
  {
   "cell_type": "markdown",
   "id": "fbd93c2f",
   "metadata": {},
   "source": [
    "## Part one"
   ]
  },
  {
   "cell_type": "code",
   "execution_count": 6,
   "id": "a7437ec1",
   "metadata": {},
   "outputs": [
    {
     "data": {
      "text/plain": [
       "1832"
      ]
     },
     "execution_count": 6,
     "metadata": {},
     "output_type": "execute_result"
    }
   ],
   "source": [
    "((x - x.shift(1).bfill()).values.flatten() > 0).sum() "
   ]
  },
  {
   "cell_type": "markdown",
   "id": "f299b73e",
   "metadata": {},
   "source": [
    "## Part two"
   ]
  },
  {
   "cell_type": "code",
   "execution_count": 7,
   "id": "90a9c6d6",
   "metadata": {},
   "outputs": [
    {
     "data": {
      "text/plain": [
       "1858"
      ]
     },
     "execution_count": 7,
     "metadata": {},
     "output_type": "execute_result"
    }
   ],
   "source": [
    "wx = x.rolling(window=3).sum().dropna()\n",
    "((wx - wx.shift(1).bfill()).values.flatten() > 0).sum() "
   ]
  },
  {
   "cell_type": "markdown",
   "id": "8dbfd9ad",
   "metadata": {},
   "source": [
    "# Day 2"
   ]
  },
  {
   "cell_type": "code",
   "execution_count": 8,
   "id": "377d1feb",
   "metadata": {},
   "outputs": [
    {
     "data": {
      "text/plain": [
       "array(['forward', 'down', 'up'], dtype=object)"
      ]
     },
     "execution_count": 8,
     "metadata": {},
     "output_type": "execute_result"
    }
   ],
   "source": [
    "df = pd.read_csv('inputs/day2.txt', header=None, delimiter=' ')\n",
    "df.columns = ['direction', 'val']\n",
    "df.direction.unique()"
   ]
  },
  {
   "cell_type": "markdown",
   "id": "b6c1cfc4",
   "metadata": {},
   "source": [
    "## Part one"
   ]
  },
  {
   "cell_type": "code",
   "execution_count": 9,
   "id": "df589478",
   "metadata": {},
   "outputs": [
    {
     "data": {
      "text/plain": [
       "1936494"
      ]
     },
     "execution_count": 9,
     "metadata": {},
     "output_type": "execute_result"
    }
   ],
   "source": [
    "forward = df[df.direction == 'forward'].val.sum()\n",
    "down = df[df.direction == 'down'].val.sum()\n",
    "up = df[df.direction == 'up'].val.sum()\n",
    "forward * (down-up)"
   ]
  },
  {
   "cell_type": "markdown",
   "id": "58577207",
   "metadata": {},
   "source": [
    "## Part two"
   ]
  },
  {
   "cell_type": "code",
   "execution_count": 10,
   "id": "5b369ac3",
   "metadata": {},
   "outputs": [
    {
     "data": {
      "text/plain": [
       "1997106066"
      ]
     },
     "execution_count": 10,
     "metadata": {},
     "output_type": "execute_result"
    }
   ],
   "source": [
    "hori, aim, depth = 0, 0, 0\n",
    "for cmd, val in df.values:\n",
    "    if cmd == 'down':\n",
    "        aim += val\n",
    "    if cmd == 'up':\n",
    "        aim -= val\n",
    "    if cmd == 'forward':\n",
    "        hori += val\n",
    "        depth += aim*val\n",
    "hori*depth"
   ]
  },
  {
   "cell_type": "markdown",
   "id": "74749ab0",
   "metadata": {},
   "source": [
    "# Day 3"
   ]
  },
  {
   "cell_type": "code",
   "execution_count": 11,
   "id": "f30dab1a",
   "metadata": {},
   "outputs": [
    {
     "name": "stdout",
     "output_type": "stream",
     "text": [
      "n_bits = 12\n"
     ]
    },
    {
     "data": {
      "text/html": [
       "<div>\n",
       "<style scoped>\n",
       "    .dataframe tbody tr th:only-of-type {\n",
       "        vertical-align: middle;\n",
       "    }\n",
       "\n",
       "    .dataframe tbody tr th {\n",
       "        vertical-align: top;\n",
       "    }\n",
       "\n",
       "    .dataframe thead th {\n",
       "        text-align: right;\n",
       "    }\n",
       "</style>\n",
       "<table border=\"1\" class=\"dataframe\">\n",
       "  <thead>\n",
       "    <tr style=\"text-align: right;\">\n",
       "      <th></th>\n",
       "      <th>raw</th>\n",
       "    </tr>\n",
       "  </thead>\n",
       "  <tbody>\n",
       "    <tr>\n",
       "      <th>0</th>\n",
       "      <td>111100101100</td>\n",
       "    </tr>\n",
       "    <tr>\n",
       "      <th>1</th>\n",
       "      <td>101100110001</td>\n",
       "    </tr>\n",
       "    <tr>\n",
       "      <th>2</th>\n",
       "      <td>100110100101</td>\n",
       "    </tr>\n",
       "    <tr>\n",
       "      <th>3</th>\n",
       "      <td>001101100010</td>\n",
       "    </tr>\n",
       "    <tr>\n",
       "      <th>4</th>\n",
       "      <td>010111011110</td>\n",
       "    </tr>\n",
       "  </tbody>\n",
       "</table>\n",
       "</div>"
      ],
      "text/plain": [
       "            raw\n",
       "0  111100101100\n",
       "1  101100110001\n",
       "2  100110100101\n",
       "3  001101100010\n",
       "4  010111011110"
      ]
     },
     "execution_count": 11,
     "metadata": {},
     "output_type": "execute_result"
    }
   ],
   "source": [
    "# Load\n",
    "df = pd.read_csv('inputs/day3.txt', header=None, names=['raw'], dtype={'raw': str})\n",
    "#n_bits = df.raw\n",
    "n_bits = df.raw.str.len().unique()[0]\n",
    "print(f'n_bits = {n_bits}')\n",
    "df.head()"
   ]
  },
  {
   "cell_type": "markdown",
   "id": "f2472aa6",
   "metadata": {},
   "source": [
    "## Part one"
   ]
  },
  {
   "cell_type": "code",
   "execution_count": 12,
   "id": "52bb68ac",
   "metadata": {},
   "outputs": [
    {
     "name": "stdout",
     "output_type": "stream",
     "text": [
      "000011011010 => 218\n",
      "111100100101 => 3877\n",
      "result = 218 * 3877 = 845186\n"
     ]
    }
   ],
   "source": [
    "gamma_str = \"\".join([\n",
    "    str(int(df.raw.str.slice(start=i, stop=i+1).astype(int).sum() > len(df) / 2))\n",
    "    for i in range(n_bits)\n",
    "])\n",
    "gamma = int(gamma_str, 2)\n",
    "epsilon_str = \"\".join(['1' if s == '0' else '0' for s in gamma_str])\n",
    "epsilon = int(epsilon_str, 2)\n",
    "print(f'{gamma_str} => {gamma}')\n",
    "print(f'{epsilon_str} => {epsilon}')\n",
    "print(f'result = {gamma} * {epsilon} = {gamma * epsilon}')"
   ]
  },
  {
   "cell_type": "markdown",
   "id": "f255fb72",
   "metadata": {},
   "source": [
    "## Part two"
   ]
  },
  {
   "cell_type": "code",
   "execution_count": 13,
   "id": "8a2c2593",
   "metadata": {},
   "outputs": [
    {
     "name": "stdout",
     "output_type": "stream",
     "text": [
      "010110110011 => 1459\n",
      "110001101010 => 3178\n",
      "life support rating = 1459 * 3178 = 4636702\n"
     ]
    }
   ],
   "source": [
    "oxy = df.copy()\n",
    "i = 0\n",
    "while len(oxy) > 1:\n",
    "    most_common = str(int(oxy.raw.str.slice(start=i, stop=i+1).astype(int).sum() >= len(oxy) / 2))\n",
    "    oxy = oxy[oxy.raw.str.slice(start=i, stop=i+1) == most_common]\n",
    "    i = (i + 1) % n_bits\n",
    "oxy_rating_str = oxy.raw.values[0]\n",
    "oxy_rating = int(oxy_rating_str, 2)\n",
    "\n",
    "co2 = df.copy()\n",
    "i = 0\n",
    "while len(co2) > 1:\n",
    "    most_common = str(int(co2.raw.str.slice(start=i, stop=i+1).astype(int).sum() < len(co2) / 2))\n",
    "    co2 = co2[co2.raw.str.slice(start=i, stop=i+1) == most_common]\n",
    "    i = (i + 1) % n_bits\n",
    "co2_rating_str = co2.raw.values[0]\n",
    "co2_rating = int(co2_rating_str, 2)\n",
    "\n",
    "print(f'{oxy_rating_str} => {oxy_rating}')\n",
    "print(f'{co2_rating_str} => {co2_rating}')\n",
    "print(f'life support rating = {oxy_rating} * {co2_rating} = {oxy_rating * co2_rating}')"
   ]
  },
  {
   "cell_type": "markdown",
   "id": "93f3af0f",
   "metadata": {},
   "source": [
    "# Day 4"
   ]
  },
  {
   "cell_type": "code",
   "execution_count": 14,
   "id": "a7494879",
   "metadata": {},
   "outputs": [
    {
     "name": "stdout",
     "output_type": "stream",
     "text": [
      "[26, 38, 2, 15, 36, 8, 12, 46, 88, 72, 32, 35, 64, 19, 5, 66, 20, 52, 74, 3, 59, 94, 45, 56, 0, 6, 67, 24, 97, 50, 92, 93, 84, 65, 71, 90, 96, 21, 87, 75, 58, 82, 14, 53, 95, 27, 49, 69, 16, 89, 37, 13, 1, 81, 60, 79, 51, 18, 48, 33, 42, 63, 39, 34, 62, 55, 47, 54, 23, 83, 77, 9, 70, 68, 85, 86, 91, 41, 4, 61, 78, 31, 22, 76, 40, 17, 30, 98, 44, 25, 80, 73, 11, 28, 7, 99, 29, 57, 43, 10]\n",
      "[[57 12 60 96 93]\n",
      " [73 87 63 70 91]\n",
      " [74 32 43 67 46]\n",
      " [59 34  5 35 82]\n",
      " [53 40 55 29  1]]\n",
      "[[57 73 74 59 53]\n",
      " [12 87 32 34 40]\n",
      " [60 63 43  5 55]\n",
      " [96 70 67 35 29]\n",
      " [93 91 46 82  1]]\n"
     ]
    }
   ],
   "source": [
    "# Load data\n",
    "with open('inputs/day4.txt') as fi:\n",
    "    lines = fi.readlines()\n",
    "len(lines)\n",
    "\n",
    "def get_boards(lines):\n",
    "    rows = []\n",
    "    for line in lines:\n",
    "        line = line.strip()\n",
    "        if not line: continue\n",
    "        rows.append([int(s) for s in line.split()])\n",
    "        if len(rows) == 5:\n",
    "            yield np.array(rows)\n",
    "            rows = []\n",
    "\n",
    "all_draws = [int(s) for s in lines[0].strip().split(',')]\n",
    "boards = list(get_boards(lines[1:]))\n",
    "\n",
    "print(all_draws)\n",
    "print(boards[0])\n",
    "print(boards[0].T)"
   ]
  },
  {
   "cell_type": "markdown",
   "id": "98303306",
   "metadata": {},
   "source": [
    "## Part one"
   ]
  },
  {
   "cell_type": "code",
   "execution_count": 15,
   "id": "521c5021",
   "metadata": {},
   "outputs": [
    {
     "name": "stdout",
     "output_type": "stream",
     "text": [
      "Board = 43\n",
      "[[ 8 32 94 72 74]\n",
      " [27 29 22  2 76]\n",
      " [58 54 80  5 35]\n",
      " [36 24 83 59 25]\n",
      " [21 31 48 39  4]]\n",
      "Draws = [94], [26, 38, 2, 15, 36, 8, 12, 46, 88, 72, 32, 35, 64, 19, 5, 66, 20, 52, 74, 3, 59, 94]\n",
      "Unmarked = [4, 76, 80, 83, 21, 22, 24, 25, 27, 29, 31, 39, 48, 54, 58]\n",
      "Score = 58374\n"
     ]
    }
   ],
   "source": [
    "def check_full(row, draws):\n",
    "    measure = set(row).difference(draws)\n",
    "    return len(measure) == 0\n",
    "    \n",
    "\n",
    "def find_board(boards, all_draws):\n",
    "    for round_i in range(len(all_draws)):\n",
    "        draw = all_draws[round_i]\n",
    "        draws = all_draws[:round_i+1]\n",
    "        for board_i, board in enumerate(boards):\n",
    "            for row in np.vstack([board, board.T]):\n",
    "                if check_full(row, draws):\n",
    "                    return draw, draws, board, board_i, row\n",
    "\n",
    "\n",
    "draw, draws, board, board_i, row = find_board(boards, all_draws)\n",
    "unmarked = list(set(board.flatten()).difference(draws))\n",
    "print(f'Board = {board_i}')\n",
    "print(board)\n",
    "print(f'Draws = [{draw}], {draws}')\n",
    "print(f'Unmarked = {unmarked}')\n",
    "\n",
    "\n",
    "score = np.array(unmarked).sum() * draw\n",
    "print(f'Score = {score}')"
   ]
  },
  {
   "cell_type": "markdown",
   "id": "57d1eda2",
   "metadata": {},
   "source": [
    "## Part two"
   ]
  },
  {
   "cell_type": "code",
   "execution_count": 16,
   "id": "7663f480",
   "metadata": {},
   "outputs": [
    {
     "name": "stdout",
     "output_type": "stream",
     "text": [
      "Board = 16\n",
      "[[41 99 93 62 96]\n",
      " [90 30 10  5 94]\n",
      " [98 32 83 78 25]\n",
      " [76 27 29 19 35]\n",
      " [58 91 34 31  3]]\n",
      "Winning row = [96 94 25 35  3]\n",
      "Draws = [31], [26, 38, 2, 15, 36, 8, 12, 46, 88, 72, 32, 35, 64, 19, 5, 66, 20, 52, 74, 3, 59, 94, 45, 56, 0, 6, 67, 24, 97, 50, 92, 93, 84, 65, 71, 90, 96, 21, 87, 75, 58, 82, 14, 53, 95, 27, 49, 69, 16, 89, 37, 13, 1, 81, 60, 79, 51, 18, 48, 33, 42, 63, 39, 34, 62, 55, 47, 54, 23, 83, 77, 9, 70, 68, 85, 86, 91, 41, 4, 61, 78, 31]\n",
      "Unmarked = [98, 99, 10, 76, 25, 29, 30]\n",
      "Score = 11377\n"
     ]
    }
   ],
   "source": [
    "def check_full(row, draws):\n",
    "    measure = set(row).difference(draws)\n",
    "    return len(measure) == 0\n",
    "    \n",
    "\n",
    "def find_board(boards, all_draws):\n",
    "    remain = np.ones(len(boards))\n",
    "    for round_i in range(len(all_draws)):\n",
    "        draw = all_draws[round_i]\n",
    "        draws = all_draws[:round_i+1]\n",
    "        for board_i, board in enumerate(boards):\n",
    "            for row in np.vstack([board, board.T]):\n",
    "                if check_full(row, draws):\n",
    "                    remain[board_i] = 0\n",
    "            if remain.sum() == 0:\n",
    "                return draw, draws, board, board_i, row\n",
    "\n",
    "draw, draws, board, board_i, row = find_board(boards, all_draws)\n",
    "unmarked = list(set(board.flatten()).difference(draws))\n",
    "print(f'Board = {board_i}')\n",
    "print(board)\n",
    "print(f'Winning row = {row}')\n",
    "print(f'Draws = [{draw}], {draws}')\n",
    "print(f'Unmarked = {unmarked}')\n",
    "\n",
    "\n",
    "score = np.array(unmarked).sum() * draw\n",
    "print(f'Score = {score}')"
   ]
  },
  {
   "cell_type": "markdown",
   "id": "f27d8dc1",
   "metadata": {},
   "source": [
    "## Day 5"
   ]
  },
  {
   "cell_type": "code",
   "execution_count": 216,
   "id": "6fd92a54",
   "metadata": {},
   "outputs": [],
   "source": [
    "with open('inputs/day5.txt') as fi:\n",
    "    lines = np.array([\n",
    "        [int(s) for s in re.match(r'^(\\d+),(\\d+) -> (\\d+),(\\d+)$', line).groups()]\n",
    "         for line in fi.readlines()])"
   ]
  },
  {
   "cell_type": "markdown",
   "id": "961e393b",
   "metadata": {},
   "source": [
    "## Analysis"
   ]
  },
  {
   "cell_type": "code",
   "execution_count": 217,
   "id": "c2562232",
   "metadata": {},
   "outputs": [
    {
     "data": {
      "text/plain": [
       "(10, 990)"
      ]
     },
     "execution_count": 217,
     "metadata": {},
     "output_type": "execute_result"
    }
   ],
   "source": [
    "lines.min(), lines.max()"
   ]
  },
  {
   "cell_type": "markdown",
   "id": "b2b6948b",
   "metadata": {},
   "source": [
    "## Part one"
   ]
  },
  {
   "cell_type": "code",
   "execution_count": 218,
   "id": "705ffee2",
   "metadata": {},
   "outputs": [],
   "source": [
    "def interpolate(x1, y1, x2, y2):\n",
    "    if x1 == x2:\n",
    "        # vertical case\n",
    "        n_steps = abs(y1-y2) + 1\n",
    "        return [(x1, y) for y in np.linspace(y1, y2, n_steps).astype(int)]\n",
    "    elif y1 == y2:\n",
    "        # horizontal case\n",
    "        n_steps = abs(x1-x2) + 1\n",
    "        return [(x, y1) for x in np.linspace(x1, x2, n_steps).astype(int)]\n",
    "    else:\n",
    "        # slanted case\n",
    "        n_steps = min(abs(x1 - x2)+1, abs(y1-y2)+1)\n",
    "        return list(zip(\n",
    "            np.linspace(x1,x2, n_steps),#.astype(int),\n",
    "            np.linspace(y1,y2, n_steps)#.astype(int)\n",
    "        ))\n",
    "    \n",
    "    \n",
    "def intersections(lines):\n",
    "    dim = lines.max()+1\n",
    "    grid = np.zeros((dim,dim))\n",
    "    for line in lines:\n",
    "        for x,y in interpolate(*line):\n",
    "            #print(x,y)\n",
    "            assert x == int(x) and y == int(y)\n",
    "            grid[int(x)][int(y)] += 1\n",
    "    return grid.astype(int)"
   ]
  },
  {
   "cell_type": "code",
   "execution_count": 219,
   "id": "ca8ebf02",
   "metadata": {},
   "outputs": [
    {
     "name": "stdout",
     "output_type": "stream",
     "text": [
      "[[491 392  34 392]\n",
      " [337  52 485  52]\n",
      " [256 605 256 959]\n",
      " [399 193 598 193]\n",
      " [ 79 450 569 450]] ...\n",
      "Result = 6856\n"
     ]
    },
    {
     "data": {
      "image/png": "[encoded data removed]",
      "text/plain": [
       "<Figure size 432x288 with 2 Axes>"
      ]
     },
     "metadata": {
      "needs_background": "light"
     },
     "output_type": "display_data"
    }
   ],
   "source": [
    "test_lines = lines[(lines[:,0] == lines[:,2]) | (lines[:,1] == lines[:,3])]\n",
    "print(test_lines[:5], '...')\n",
    "grid = intersections(test_lines)\n",
    "sns.heatmap(grid.T)\n",
    "\n",
    "print(f'Result = {len(grid[grid > 1].flatten())}')\n",
    "# Result = 6822 wrong"
   ]
  },
  {
   "cell_type": "markdown",
   "id": "4434e91e",
   "metadata": {},
   "source": [
    "## Part two"
   ]
  },
  {
   "cell_type": "code",
   "execution_count": 222,
   "id": "d1060f05",
   "metadata": {},
   "outputs": [
    {
     "name": "stdout",
     "output_type": "stream",
     "text": [
      "Result = 20666\n"
     ]
    },
    {
     "data": {
      "image/png": "[encoded data removed]",
      "text/plain": [
       "<Figure size 432x288 with 2 Axes>"
      ]
     },
     "metadata": {
      "needs_background": "light"
     },
     "output_type": "display_data"
    }
   ],
   "source": [
    "test_lines = lines\n",
    "grid = intersections(test_lines)\n",
    "sns.heatmap(grid.T)\n",
    "\n",
    "print(f'Result = {len(grid[grid > 1].flatten())}')"
   ]
  },
  {
   "cell_type": "markdown",
   "id": "17176633",
   "metadata": {},
   "source": [
    "## Day 6"
   ]
  },
  {
   "cell_type": "code",
   "execution_count": 469,
   "id": "b846543e",
   "metadata": {},
   "outputs": [
    {
     "name": "stdout",
     "output_type": "stream",
     "text": [
      "[1 2 3 4 5]\n"
     ]
    },
    {
     "data": {
      "text/plain": [
       "array([1, 1, 1, 2, 1, 1, 2, 1, 1, 1, 5, 1, 1, 1, 1, 1, 1, 1, 1, 1, 1, 2,\n",
       "       1, 1, 1, 1, 1, 4, 1, 1, 1, 1, 3, 1, 1, 3, 1, 1, 1, 4, 1, 5, 1, 3,\n",
       "       1, 1, 1, 1, 1, 5, 1, 1, 1, 1, 1, 5, 5, 2, 5, 1, 1, 2, 1, 1, 1, 1,\n",
       "       3, 4, 1, 1, 1, 1, 1, 1, 1, 1, 1, 1, 1, 1, 2, 1, 1, 1, 1, 5, 4, 1,\n",
       "       1, 1, 1, 1, 5, 1, 2, 4, 1, 1, 1, 1, 1, 3, 3, 2, 1, 1, 4, 1, 1, 5,\n",
       "       5, 1, 1, 1, 1, 1, 2, 5, 1, 4, 1, 1, 1, 1, 1, 1, 2, 1, 1, 5, 2, 1,\n",
       "       1, 1, 1, 1, 1, 1, 1, 1, 1, 1, 1, 1, 1, 1, 1, 1, 1, 1, 1, 1, 1, 1,\n",
       "       1, 1, 1, 1, 4, 3, 1, 1, 3, 1, 3, 1, 4, 1, 5, 4, 1, 1, 2, 1, 1, 5,\n",
       "       1, 1, 1, 1, 1, 5, 1, 1, 1, 1, 1, 1, 1, 1, 1, 4, 1, 1, 4, 1, 1, 1,\n",
       "       1, 1, 1, 1, 5, 4, 1, 2, 1, 1, 1, 1, 1, 1, 1, 1, 1, 1, 1, 3, 1, 1,\n",
       "       1, 1, 1, 1, 1, 1, 1, 1, 4, 1, 1, 1, 2, 1, 4, 1, 1, 1, 1, 1, 1, 1,\n",
       "       1, 1, 4, 2, 1, 2, 1, 1, 4, 1, 1, 1, 1, 1, 1, 3, 1, 1, 1, 1, 1, 1,\n",
       "       1, 1, 3, 2, 1, 4, 1, 5, 1, 1, 1, 4, 5, 1, 1, 1, 1, 1, 1, 5, 1, 1,\n",
       "       5, 1, 2, 1, 1, 2, 4, 1, 1, 2, 1, 5, 5, 3])"
      ]
     },
     "execution_count": 469,
     "metadata": {},
     "output_type": "execute_result"
    }
   ],
   "source": [
    "with open('inputs/day6.txt') as fi:\n",
    "    fish = np.array([int(s) for s in fi.read().strip().split(',')])\n",
    "print(np.unique(fish))\n",
    "fish"
   ]
  },
  {
   "cell_type": "markdown",
   "id": "610c5e17",
   "metadata": {},
   "source": [
    "## Part one"
   ]
  },
  {
   "cell_type": "code",
   "execution_count": 470,
   "id": "5199f8ae",
   "metadata": {},
   "outputs": [],
   "source": [
    "def sim_naive(pop, days=1):\n",
    "    # will use a lot of memory if days is large!\n",
    "    pop = np.array(pop)  # copy initial population\n",
    "    for i in range(days):\n",
    "        #if i % 10 == 0: print(f'Day {i}')\n",
    "        n_reset = len(pop[pop == 0])\n",
    "        pop = np.concatenate([\n",
    "            pop[pop == 0] + 6,  # reset fish\n",
    "            pop[pop > 0] - 1,  # decremented fish\n",
    "            pop[pop == 0] + 8, # new fish\n",
    "        ])\n",
    "    return len(pop)"
   ]
  },
  {
   "cell_type": "code",
   "execution_count": 473,
   "id": "5d06ac85",
   "metadata": {},
   "outputs": [
    {
     "name": "stdout",
     "output_type": "stream",
     "text": [
      "Result = 395627\n"
     ]
    }
   ],
   "source": [
    "result = sim_naive(fish, days=80)\n",
    "print(f'Result = {result}')"
   ]
  },
  {
   "cell_type": "markdown",
   "id": "c0c6ad0e",
   "metadata": {},
   "source": [
    "## Part two"
   ]
  },
  {
   "cell_type": "code",
   "execution_count": 474,
   "id": "c627255d",
   "metadata": {},
   "outputs": [
    {
     "name": "stdout",
     "output_type": "stream",
     "text": [
      "Result = 1767323539209\n"
     ]
    }
   ],
   "source": [
    "def fast_sim(pop, days=10):\n",
    "    counters = np.zeros(9).astype(int)\n",
    "    for t in pop: counters[t] += 1\n",
    "    for _ in range(days):\n",
    "        n_spawns = counters[0]\n",
    "        counters = np.roll(counters, -1)\n",
    "        counters[8] = n_spawns\n",
    "        counters[6] += n_spawns\n",
    "    return sum(counters)\n",
    "    \n",
    "print(f'Result = {fast_sim(fish, days=256)}')"
   ]
  },
  {
   "cell_type": "markdown",
   "id": "049060f1",
   "metadata": {},
   "source": [
    "# Day 7"
   ]
  },
  {
   "cell_type": "code",
   "execution_count": 503,
   "id": "79fa4046",
   "metadata": {},
   "outputs": [
    {
     "name": "stdout",
     "output_type": "stream",
     "text": [
      "1000\n"
     ]
    }
   ],
   "source": [
    "with open('inputs/day7.txt') as fi:\n",
    "    pos = np.array([int(s) for s in fi.read().strip().split(',')])\n",
    "print(len(pos))"
   ]
  },
  {
   "cell_type": "markdown",
   "id": "22e682ae",
   "metadata": {},
   "source": [
    "## Part one"
   ]
  },
  {
   "cell_type": "code",
   "execution_count": 514,
   "id": "fa23c5a3",
   "metadata": {},
   "outputs": [
    {
     "name": "stdout",
     "output_type": "stream",
     "text": [
      "Mean crab position = 460.574\n",
      "Optimal crab position: 342\n",
      "Optimal fuel cost: 325528\n"
     ]
    },
    {
     "data": {
      "image/png": "[encoded data removed]",
      "text/plain": [
       "<Figure size 432x288 with 1 Axes>"
      ]
     },
     "metadata": {
      "needs_background": "light"
     },
     "output_type": "display_data"
    }
   ],
   "source": [
    "n_targets = range(len(pos))\n",
    "fuel_costs = [np.abs(pos - target).sum() for target in n_targets]\n",
    "sns.lineplot(x=targets, y=fuel_costs)\n",
    "print(f'Mean crab position = {pos.mean()}')\n",
    "opt_target = np.argmin(fuel_costs)\n",
    "print(f'Optimal crab position: {opt_target}')\n",
    "print(f'Optimal fuel cost: {fuel_costs[opt_target]}')"
   ]
  },
  {
   "cell_type": "markdown",
   "id": "b8b4a6cb",
   "metadata": {},
   "source": [
    "## Part two"
   ]
  },
  {
   "cell_type": "code",
   "execution_count": 526,
   "id": "202dd8db",
   "metadata": {},
   "outputs": [
    {
     "name": "stdout",
     "output_type": "stream",
     "text": [
      "Mean crab position = 460.574\n",
      "Optimal crab position: 460\n",
      "Optimal fuel cost: 85015836\n"
     ]
    },
    {
     "data": {
      "image/png": "[encoded data removed]",
      "text/plain": [
       "<Figure size 432x288 with 1 Axes>"
      ]
     },
     "metadata": {
      "needs_background": "light"
     },
     "output_type": "display_data"
    }
   ],
   "source": [
    "def cost(pos, target):\n",
    "    dist = np.abs(pos - target)\n",
    "    return dist*(dist+1)/2\n",
    "\n",
    "vcost = np.vectorize(cost)\n",
    "\n",
    "fuel_costs = [vcost(pos, target).sum() for target in n_targets]\n",
    "sns.lineplot(x=targets, y=fuel_costs)\n",
    "print(f'Mean crab position = {pos.mean()}')\n",
    "opt_target = np.argmin(fuel_costs)\n",
    "print(f'Optimal crab position: {opt_target}')\n",
    "print(f'Optimal fuel cost: {fuel_costs[opt_target].astype(int)}')"
   ]
  },
  {
   "cell_type": "code",
   "execution_count": null,
   "id": "e7ff9788",
   "metadata": {},
   "outputs": [],
   "source": []
  }
 ],
 "metadata": {
  "kernelspec": {
   "display_name": "Python 3 (ipykernel)",
   "language": "python",
   "name": "python3"
  },
  "language_info": {
   "codemirror_mode": {
    "name": "ipython",
    "version": 3
   },
   "file_extension": ".py",
   "mimetype": "text/x-python",
   "name": "python",
   "nbconvert_exporter": "python",
   "pygments_lexer": "ipython3",
   "version": "3.9.5"
  }
 },
 "nbformat": 4,
 "nbformat_minor": 5
}
