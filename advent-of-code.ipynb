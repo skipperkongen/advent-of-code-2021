{
 "cells": [
  {
   "cell_type": "markdown",
   "id": "f1beae67",
   "metadata": {},
   "source": [
    "# Day 1"
   ]
  },
  {
   "cell_type": "code",
   "execution_count": 1,
   "id": "7603c1e3",
   "metadata": {},
   "outputs": [],
   "source": [
    "import pandas as pd"
   ]
  },
  {
   "cell_type": "code",
   "execution_count": 2,
   "id": "602d1e29",
   "metadata": {},
   "outputs": [],
   "source": [
    "df = pd.read_csv('input.txt', header=None)\n",
    "x = df.iloc[:,0]"
   ]
  },
  {
   "cell_type": "markdown",
   "id": "fbd93c2f",
   "metadata": {},
   "source": [
    "## Part one"
   ]
  },
  {
   "cell_type": "code",
   "execution_count": 3,
   "id": "a7437ec1",
   "metadata": {},
   "outputs": [
    {
     "data": {
      "text/plain": [
       "1832"
      ]
     },
     "execution_count": 3,
     "metadata": {},
     "output_type": "execute_result"
    }
   ],
   "source": [
    "((x - x.shift(1).bfill()).values.flatten() > 0).sum() "
   ]
  },
  {
   "cell_type": "markdown",
   "id": "f299b73e",
   "metadata": {},
   "source": [
    "## Part two"
   ]
  },
  {
   "cell_type": "code",
   "execution_count": 4,
   "id": "90a9c6d6",
   "metadata": {},
   "outputs": [
    {
     "data": {
      "text/plain": [
       "1858"
      ]
     },
     "execution_count": 4,
     "metadata": {},
     "output_type": "execute_result"
    }
   ],
   "source": [
    "wx = x.rolling(window=3).sum().dropna()\n",
    "((wx - wx.shift(1).bfill()).values.flatten() > 0).sum() "
   ]
  },
  {
   "cell_type": "markdown",
   "id": "8dbfd9ad",
   "metadata": {},
   "source": [
    "# Day 2"
   ]
  },
  {
   "cell_type": "code",
   "execution_count": 13,
   "id": "377d1feb",
   "metadata": {},
   "outputs": [
    {
     "data": {
      "text/plain": [
       "array(['forward', 'down', 'up'], dtype=object)"
      ]
     },
     "execution_count": 13,
     "metadata": {},
     "output_type": "execute_result"
    }
   ],
   "source": [
    "df = pd.read_csv('input2.txt', header=None, delimiter=' ')\n",
    "df.columns = ['direction', 'val']\n",
    "df.direction.unique()"
   ]
  },
  {
   "cell_type": "markdown",
   "id": "b6c1cfc4",
   "metadata": {},
   "source": [
    "## Part one"
   ]
  },
  {
   "cell_type": "code",
   "execution_count": 17,
   "id": "df589478",
   "metadata": {},
   "outputs": [
    {
     "data": {
      "text/plain": [
       "1936494"
      ]
     },
     "execution_count": 17,
     "metadata": {},
     "output_type": "execute_result"
    }
   ],
   "source": [
    "forward = df[df.direction == 'forward'].val.sum()\n",
    "down = df[df.direction == 'down'].val.sum()\n",
    "up = df[df.direction == 'up'].val.sum()\n",
    "forward * (down-up)"
   ]
  },
  {
   "cell_type": "markdown",
   "id": "58577207",
   "metadata": {},
   "source": [
    "## Part two"
   ]
  },
  {
   "cell_type": "code",
   "execution_count": 19,
   "id": "5b369ac3",
   "metadata": {},
   "outputs": [
    {
     "data": {
      "text/plain": [
       "1997106066"
      ]
     },
     "execution_count": 19,
     "metadata": {},
     "output_type": "execute_result"
    }
   ],
   "source": [
    "hori, aim, depth = 0, 0, 0\n",
    "for cmd, val in df.values:\n",
    "    if cmd == 'down':\n",
    "        aim += val\n",
    "    if cmd == 'up':\n",
    "        aim -= val\n",
    "    if cmd == 'forward':\n",
    "        hori += val\n",
    "        depth += aim*val\n",
    "hori*depth"
   ]
  },
  {
   "cell_type": "markdown",
   "id": "74749ab0",
   "metadata": {},
   "source": [
    "# Day 3"
   ]
  },
  {
   "cell_type": "code",
   "execution_count": 41,
   "id": "f30dab1a",
   "metadata": {},
   "outputs": [
    {
     "name": "stdout",
     "output_type": "stream",
     "text": [
      "n_bits = 12\n"
     ]
    },
    {
     "data": {
      "text/html": [
       "<div>\n",
       "<style scoped>\n",
       "    .dataframe tbody tr th:only-of-type {\n",
       "        vertical-align: middle;\n",
       "    }\n",
       "\n",
       "    .dataframe tbody tr th {\n",
       "        vertical-align: top;\n",
       "    }\n",
       "\n",
       "    .dataframe thead th {\n",
       "        text-align: right;\n",
       "    }\n",
       "</style>\n",
       "<table border=\"1\" class=\"dataframe\">\n",
       "  <thead>\n",
       "    <tr style=\"text-align: right;\">\n",
       "      <th></th>\n",
       "      <th>raw</th>\n",
       "    </tr>\n",
       "  </thead>\n",
       "  <tbody>\n",
       "    <tr>\n",
       "      <th>0</th>\n",
       "      <td>111100101100</td>\n",
       "    </tr>\n",
       "    <tr>\n",
       "      <th>1</th>\n",
       "      <td>101100110001</td>\n",
       "    </tr>\n",
       "    <tr>\n",
       "      <th>2</th>\n",
       "      <td>100110100101</td>\n",
       "    </tr>\n",
       "    <tr>\n",
       "      <th>3</th>\n",
       "      <td>001101100010</td>\n",
       "    </tr>\n",
       "    <tr>\n",
       "      <th>4</th>\n",
       "      <td>010111011110</td>\n",
       "    </tr>\n",
       "  </tbody>\n",
       "</table>\n",
       "</div>"
      ],
      "text/plain": [
       "            raw\n",
       "0  111100101100\n",
       "1  101100110001\n",
       "2  100110100101\n",
       "3  001101100010\n",
       "4  010111011110"
      ]
     },
     "execution_count": 41,
     "metadata": {},
     "output_type": "execute_result"
    }
   ],
   "source": [
    "# Load\n",
    "df = pd.read_csv('input3.txt', header=None, names=['raw'], dtype={'raw': str})\n",
    "#n_bits = df.raw\n",
    "n_bits = df.raw.str.len().unique()[0]\n",
    "print(f'n_bits = {n_bits}')\n",
    "df.head()"
   ]
  },
  {
   "cell_type": "markdown",
   "id": "79f2c22d",
   "metadata": {},
   "source": [
    "## Part one"
   ]
  },
  {
   "cell_type": "code",
   "execution_count": 46,
   "id": "d7c2c33b",
   "metadata": {},
   "outputs": [
    {
     "name": "stdout",
     "output_type": "stream",
     "text": [
      "000011011010 => 218\n",
      "111100100101 => 3877\n",
      "result = 218 * 3877 = 845186\n"
     ]
    }
   ],
   "source": [
    "gamma_str = \"\".join([\n",
    "    str(int(df.raw.str.slice(start=i, stop=i+1).astype(int).sum() > len(df) / 2))\n",
    "    for i in range(n_bits)\n",
    "])\n",
    "gamma = int(gamma_str, 2)\n",
    "epsilon_str = \"\".join(['1' if s == '0' else '0' for s in gamma_str])\n",
    "epsilon = int(epsilon_str, 2)\n",
    "print(f'{gamma_str} => {gamma}')\n",
    "print(f'{epsilon_str} => {epsilon}')\n",
    "print(f'result = {gamma} * {epsilon} = {gamma * epsilon}')"
   ]
  },
  {
   "cell_type": "markdown",
   "id": "1d155a09",
   "metadata": {},
   "source": [
    "## Part two"
   ]
  },
  {
   "cell_type": "code",
   "execution_count": null,
   "id": "d889fb6a",
   "metadata": {},
   "outputs": [],
   "source": []
  }
 ],
 "metadata": {
  "kernelspec": {
   "display_name": "Python 3 (ipykernel)",
   "language": "python",
   "name": "python3"
  },
  "language_info": {
   "codemirror_mode": {
    "name": "ipython",
    "version": 3
   },
   "file_extension": ".py",
   "mimetype": "text/x-python",
   "name": "python",
   "nbconvert_exporter": "python",
   "pygments_lexer": "ipython3",
   "version": "3.9.5"
  }
 },
 "nbformat": 4,
 "nbformat_minor": 5
}
