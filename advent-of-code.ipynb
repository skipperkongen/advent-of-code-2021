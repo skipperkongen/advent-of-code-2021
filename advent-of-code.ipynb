{
 "cells": [
  {
   "cell_type": "markdown",
   "id": "f1beae67",
   "metadata": {},
   "source": [
    "# Day 1"
   ]
  },
  {
   "cell_type": "code",
   "execution_count": 1,
   "id": "7603c1e3",
   "metadata": {},
   "outputs": [],
   "source": [
    "import pandas as pd"
   ]
  },
  {
   "cell_type": "code",
   "execution_count": 2,
   "id": "602d1e29",
   "metadata": {},
   "outputs": [],
   "source": [
    "df = pd.read_csv('input.txt', header=None)\n",
    "x = df.iloc[:,0]"
   ]
  },
  {
   "cell_type": "markdown",
   "id": "fbd93c2f",
   "metadata": {},
   "source": [
    "## Part one"
   ]
  },
  {
   "cell_type": "code",
   "execution_count": 3,
   "id": "a7437ec1",
   "metadata": {},
   "outputs": [
    {
     "data": {
      "text/plain": [
       "1832"
      ]
     },
     "execution_count": 3,
     "metadata": {},
     "output_type": "execute_result"
    }
   ],
   "source": [
    "((x - x.shift(1).bfill()).values.flatten() > 0).sum() "
   ]
  },
  {
   "cell_type": "markdown",
   "id": "f299b73e",
   "metadata": {},
   "source": [
    "## Part two"
   ]
  },
  {
   "cell_type": "code",
   "execution_count": 4,
   "id": "90a9c6d6",
   "metadata": {},
   "outputs": [
    {
     "data": {
      "text/plain": [
       "1858"
      ]
     },
     "execution_count": 4,
     "metadata": {},
     "output_type": "execute_result"
    }
   ],
   "source": [
    "wx = x.rolling(window=3).sum().dropna()\n",
    "((wx - wx.shift(1).bfill()).values.flatten() > 0).sum() "
   ]
  },
  {
   "cell_type": "markdown",
   "id": "8dbfd9ad",
   "metadata": {},
   "source": [
    "# Day 2"
   ]
  },
  {
   "cell_type": "code",
   "execution_count": 13,
   "id": "377d1feb",
   "metadata": {},
   "outputs": [
    {
     "data": {
      "text/plain": [
       "array(['forward', 'down', 'up'], dtype=object)"
      ]
     },
     "execution_count": 13,
     "metadata": {},
     "output_type": "execute_result"
    }
   ],
   "source": [
    "df = pd.read_csv('input2.txt', header=None, delimiter=' ')\n",
    "df.columns = ['direction', 'val']\n",
    "df.direction.unique()"
   ]
  },
  {
   "cell_type": "markdown",
   "id": "b6c1cfc4",
   "metadata": {},
   "source": [
    "## Part one"
   ]
  },
  {
   "cell_type": "code",
   "execution_count": 17,
   "id": "df589478",
   "metadata": {},
   "outputs": [
    {
     "data": {
      "text/plain": [
       "1936494"
      ]
     },
     "execution_count": 17,
     "metadata": {},
     "output_type": "execute_result"
    }
   ],
   "source": [
    "forward = df[df.direction == 'forward'].val.sum()\n",
    "down = df[df.direction == 'down'].val.sum()\n",
    "up = df[df.direction == 'up'].val.sum()\n",
    "forward * (down-up)"
   ]
  },
  {
   "cell_type": "markdown",
   "id": "58577207",
   "metadata": {},
   "source": [
    "## Part two"
   ]
  },
  {
   "cell_type": "code",
   "execution_count": 19,
   "id": "5b369ac3",
   "metadata": {},
   "outputs": [
    {
     "data": {
      "text/plain": [
       "1997106066"
      ]
     },
     "execution_count": 19,
     "metadata": {},
     "output_type": "execute_result"
    }
   ],
   "source": [
    "hori, aim, depth = 0, 0, 0\n",
    "for cmd, val in df.values:\n",
    "    if cmd == 'down':\n",
    "        aim += val\n",
    "    if cmd == 'up':\n",
    "        aim -= val\n",
    "    if cmd == 'forward':\n",
    "        hori += val\n",
    "        depth += aim*val\n",
    "hori*depth"
   ]
  },
  {
   "cell_type": "code",
   "execution_count": null,
   "id": "b1ed5570",
   "metadata": {},
   "outputs": [],
   "source": []
  }
 ],
 "metadata": {
  "kernelspec": {
   "display_name": "Python 3 (ipykernel)",
   "language": "python",
   "name": "python3"
  },
  "language_info": {
   "codemirror_mode": {
    "name": "ipython",
    "version": 3
   },
   "file_extension": ".py",
   "mimetype": "text/x-python",
   "name": "python",
   "nbconvert_exporter": "python",
   "pygments_lexer": "ipython3",
   "version": "3.9.5"
  }
 },
 "nbformat": 4,
 "nbformat_minor": 5
}
